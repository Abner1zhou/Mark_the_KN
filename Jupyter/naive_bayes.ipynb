{
 "cells": [
  {
   "cell_type": "code",
   "execution_count": 1,
   "metadata": {},
   "outputs": [],
   "source": [
    "import sys\n",
    "# 移动默认路径\n",
    "sys.path.append(\"../\")"
   ]
  },
  {
   "cell_type": "code",
   "execution_count": 2,
   "metadata": {},
   "outputs": [],
   "source": [
    "import os\n",
    "import re\n",
    "import jieba\n",
    "import pandas as pd"
   ]
  },
  {
   "cell_type": "code",
   "execution_count": 3,
   "metadata": {},
   "outputs": [],
   "source": [
    "from utils.path_config import *"
   ]
  },
  {
   "cell_type": "markdown",
   "metadata": {},
   "source": [
    "### 导入csv文件"
   ]
  },
  {
   "cell_type": "code",
   "execution_count": 4,
   "metadata": {},
   "outputs": [],
   "source": [
    "# 通过正则表达式去除停用词\n",
    "def segment_line(line):\n",
    "    line = re.sub(\n",
    "            \"[a-zA-Z0-9]|[\\s+\\-\\|\\!\\/\\[\\]\\{\\}_,.$%^*(+\\\"\\')]+|[:：+——()?【】《》“”！，。？、~@#￥%……&*（）]+|题目\", '',line)\n",
    "    tokens = jieba.cut(line, cut_all=False)\n",
    "    return \" \".join(tokens)"
   ]
  },
  {
   "cell_type": "code",
   "execution_count": 5,
   "metadata": {},
   "outputs": [],
   "source": [
    "def get_segment(subject_section, subject_path):\n",
    "    iter_ = 0\n",
    "    for label, path in zip(subject_section, subject_path):\n",
    "        df = pd.read_csv(path)\n",
    "        df['item'] = df['item'].apply(lambda x:segment_line(x))\n",
    "        df['label'] = label\n",
    "        # 第一次循环初始化dataset_df\n",
    "        if iter_ == 0:\n",
    "            dataset_df = df\n",
    "            iter_ += 1\n",
    "        else:\n",
    "            dataset_df=pd.concat([dataset_df,df])\n",
    "    return dataset_df"
   ]
  },
  {
   "cell_type": "code",
   "execution_count": 7,
   "metadata": {},
   "outputs": [
    {
     "name": "stdout",
     "output_type": "stream",
     "text": [
      "CPU times: user 33.1 s, sys: 24 ms, total: 33.1 s\n",
      "Wall time: 33.1 s\n"
     ]
    }
   ],
   "source": [
    "%%time\n",
    "history_df = get_segment(history_section, history_path_all)\n",
    "politics_df = get_segment(politics_section, politics_path_all)\n",
    "geography_df = get_segment(geography_section, geography_path_all)\n",
    "biological_df = get_segment(biological_section, biological_path_all)"
   ]
  },
  {
   "cell_type": "code",
   "execution_count": 8,
   "metadata": {},
   "outputs": [],
   "source": [
    "dataset_df = pd.concat([history_df, politics_df, geography_df, biological_df])"
   ]
  },
  {
   "cell_type": "code",
   "execution_count": 9,
   "metadata": {},
   "outputs": [
    {
     "data": {
      "text/html": [
       "<div>\n",
       "<style scoped>\n",
       "    .dataframe tbody tr th:only-of-type {\n",
       "        vertical-align: middle;\n",
       "    }\n",
       "\n",
       "    .dataframe tbody tr th {\n",
       "        vertical-align: top;\n",
       "    }\n",
       "\n",
       "    .dataframe thead th {\n",
       "        text-align: right;\n",
       "    }\n",
       "</style>\n",
       "<table border=\"1\" class=\"dataframe\">\n",
       "  <thead>\n",
       "    <tr style=\"text-align: right;\">\n",
       "      <th></th>\n",
       "      <th>web-scraper-order</th>\n",
       "      <th>web-scraper-start-url</th>\n",
       "      <th>item</th>\n",
       "      <th>label</th>\n",
       "    </tr>\n",
       "  </thead>\n",
       "  <tbody>\n",
       "    <tr>\n",
       "      <th>0</th>\n",
       "      <td>1566523436-2497</td>\n",
       "      <td>https://study.baidu.com/tiku</td>\n",
       "      <td>据 左传 记载 春秋 后期 鲁国 大夫 季孙氏 的 家臣 阳虎 独掌 权柄 后 标榜 要 替...</td>\n",
       "      <td>古代史</td>\n",
       "    </tr>\n",
       "    <tr>\n",
       "      <th>1</th>\n",
       "      <td>1566523436-2506</td>\n",
       "      <td>https://study.baidu.com/tiku</td>\n",
       "      <td>秦始皇 统一 六国后 创制 了 一套 御玺 如 任命 国家 官员 则 封印 皇帝 之玺 ； ...</td>\n",
       "      <td>古代史</td>\n",
       "    </tr>\n",
       "    <tr>\n",
       "      <th>2</th>\n",
       "      <td>1566523436-2153</td>\n",
       "      <td>https://study.baidu.com/tiku</td>\n",
       "      <td>北宋 加强 中央集权 的 主要 措施 有 ① 把 主要 将领 的 兵权 收归 中央 ② 派 ...</td>\n",
       "      <td>古代史</td>\n",
       "    </tr>\n",
       "    <tr>\n",
       "      <th>3</th>\n",
       "      <td>1566523436-2328</td>\n",
       "      <td>https://study.baidu.com/tiku</td>\n",
       "      <td>商朝人 崇信 各种 鬼神 把 占卜 祭祀 作为 与 神灵 沟通 的 手段 负责 通神 事务 ...</td>\n",
       "      <td>古代史</td>\n",
       "    </tr>\n",
       "    <tr>\n",
       "      <th>4</th>\n",
       "      <td>1566523436-1914</td>\n",
       "      <td>https://study.baidu.com/tiku</td>\n",
       "      <td>公元 年 北宋 政府 在 江淮地区 设置 了 包括 盐业 管理 以及 控制 对 茶叶 销售 ...</td>\n",
       "      <td>古代史</td>\n",
       "    </tr>\n",
       "  </tbody>\n",
       "</table>\n",
       "</div>"
      ],
      "text/plain": [
       "  web-scraper-order         web-scraper-start-url  \\\n",
       "0   1566523436-2497  https://study.baidu.com/tiku   \n",
       "1   1566523436-2506  https://study.baidu.com/tiku   \n",
       "2   1566523436-2153  https://study.baidu.com/tiku   \n",
       "3   1566523436-2328  https://study.baidu.com/tiku   \n",
       "4   1566523436-1914  https://study.baidu.com/tiku   \n",
       "\n",
       "                                                item label  \n",
       "0  据 左传 记载 春秋 后期 鲁国 大夫 季孙氏 的 家臣 阳虎 独掌 权柄 后 标榜 要 替...   古代史  \n",
       "1  秦始皇 统一 六国后 创制 了 一套 御玺 如 任命 国家 官员 则 封印 皇帝 之玺 ； ...   古代史  \n",
       "2  北宋 加强 中央集权 的 主要 措施 有 ① 把 主要 将领 的 兵权 收归 中央 ② 派 ...   古代史  \n",
       "3  商朝人 崇信 各种 鬼神 把 占卜 祭祀 作为 与 神灵 沟通 的 手段 负责 通神 事务 ...   古代史  \n",
       "4  公元 年 北宋 政府 在 江淮地区 设置 了 包括 盐业 管理 以及 控制 对 茶叶 销售 ...   古代史  "
      ]
     },
     "execution_count": 9,
     "metadata": {},
     "output_type": "execute_result"
    }
   ],
   "source": [
    "dataset_df.head()"
   ]
  },
  {
   "cell_type": "code",
   "execution_count": 11,
   "metadata": {},
   "outputs": [
    {
     "name": "stdout",
     "output_type": "stream",
     "text": [
      "<class 'pandas.core.frame.DataFrame'>\n",
      "Int64Index: 26243 entries, 0 to 1039\n",
      "Data columns (total 4 columns):\n",
      "web-scraper-order        26243 non-null object\n",
      "web-scraper-start-url    26243 non-null object\n",
      "item                     26243 non-null object\n",
      "label                    26243 non-null object\n",
      "dtypes: object(4)\n",
      "memory usage: 1.6+ MB\n"
     ]
    }
   ],
   "source": [
    "dataset_df.info()"
   ]
  },
  {
   "cell_type": "code",
   "execution_count": 12,
   "metadata": {},
   "outputs": [],
   "source": [
    "corpus=dataset_df['item']"
   ]
  },
  {
   "cell_type": "code",
   "execution_count": 14,
   "metadata": {},
   "outputs": [],
   "source": [
    "from sklearn.feature_extraction.text import TfidfVectorizer,CountVectorizer,TfidfTransformer"
   ]
  },
  {
   "cell_type": "markdown",
   "metadata": {},
   "source": [
    "### TDIDF"
   ]
  },
  {
   "cell_type": "code",
   "execution_count": 15,
   "metadata": {},
   "outputs": [
    {
     "name": "stdout",
     "output_type": "stream",
     "text": [
      "CPU times: user 2.51 s, sys: 24 ms, total: 2.53 s\n",
      "Wall time: 2.53 s\n"
     ]
    }
   ],
   "source": [
    "%%time\n",
    "# 设置2500个特征值，忽略词频小于5的词。\n",
    "vectorizer = TfidfVectorizer(max_features=2500,min_df=5)\n",
    "X = vectorizer.fit_transform(corpus)"
   ]
  },
  {
   "cell_type": "code",
   "execution_count": 16,
   "metadata": {},
   "outputs": [],
   "source": [
    "from sklearn.model_selection import train_test_split"
   ]
  },
  {
   "cell_type": "code",
   "execution_count": 18,
   "metadata": {},
   "outputs": [],
   "source": [
    "X_train, X_test, y_train, y_test=train_test_split(X.toarray(),dataset_df['label'],test_size=0.2,random_state=42)"
   ]
  },
  {
   "cell_type": "markdown",
   "metadata": {},
   "source": [
    "## sklearn\n",
    "[naive bayes](https://scikit-learn.org/stable/modules/classes.html#module-sklearn.naive_bayes)"
   ]
  },
  {
   "cell_type": "code",
   "execution_count": 19,
   "metadata": {},
   "outputs": [],
   "source": [
    "from sklearn.naive_bayes import GaussianNB,MultinomialNB,ComplementNB,BernoulliNB\n",
    "from sklearn.metrics import classification_report"
   ]
  },
  {
   "cell_type": "markdown",
   "metadata": {},
   "source": [
    "# Naive Bayes"
   ]
  },
  {
   "cell_type": "code",
   "execution_count": 20,
   "metadata": {},
   "outputs": [
    {
     "name": "stdout",
     "output_type": "stream",
     "text": [
      "CPU times: user 1.07 s, sys: 264 ms, total: 1.33 s\n",
      "Wall time: 1.33 s\n"
     ]
    }
   ],
   "source": [
    "%%time\n",
    "# 高斯朴素贝叶斯\n",
    "clf = GaussianNB()\n",
    "clf.fit(X_train, y_train)\n",
    "Gauss_pred = clf.predict(X_test)"
   ]
  },
  {
   "cell_type": "code",
   "execution_count": 21,
   "metadata": {},
   "outputs": [
    {
     "name": "stdout",
     "output_type": "stream",
     "text": [
      "              precision    recall  f1-score   support\n",
      "\n",
      "       人口与城市       0.77      0.84      0.80       325\n",
      "   公民道德与伦理常识       0.83      0.82      0.82       375\n",
      "       分子与细胞       0.92      0.89      0.90       544\n",
      "     区域可持续发展       0.38      0.25      0.30        24\n",
      "         古代史       0.58      0.82      0.68       193\n",
      "       地球与地图       0.27      0.57      0.36        86\n",
      "      宇宙中的地球       0.98      0.83      0.90       730\n",
      "        时事政治       1.00      0.17      0.29        12\n",
      "         现代史       0.49      0.23      0.31       478\n",
      "    现代生物技术专题       0.33      0.69      0.44       178\n",
      "   生产活动与地域联系       0.77      0.72      0.74       279\n",
      "    生活中的法律常识       0.89      0.39      0.54        41\n",
      "      生物技术实践       0.55      0.33      0.41       360\n",
      "     生物科学与社会       0.67      0.10      0.18       812\n",
      "      科学思维常识       0.74      0.33      0.46        42\n",
      "    科学社会主义常识       0.71      0.75      0.73       114\n",
      "       稳态与环境       0.20      0.86      0.33       203\n",
      "       经济学常识       0.68      0.72      0.70       127\n",
      "         近代史       0.47      0.79      0.59       326\n",
      "\n",
      "    accuracy                           0.60      5249\n",
      "   macro avg       0.64      0.58      0.55      5249\n",
      "weighted avg       0.69      0.60      0.59      5249\n",
      "\n"
     ]
    }
   ],
   "source": [
    "print(classification_report(y_test, Gauss_pred))"
   ]
  },
  {
   "cell_type": "code",
   "execution_count": 22,
   "metadata": {},
   "outputs": [
    {
     "name": "stdout",
     "output_type": "stream",
     "text": [
      "CPU times: user 327 ms, sys: 43.6 ms, total: 370 ms\n",
      "Wall time: 145 ms\n"
     ]
    }
   ],
   "source": [
    "%%time\n",
    "# 多项式朴素贝叶斯\n",
    "clf = MultinomialNB()\n",
    "clf.fit(X_train, y_train)\n",
    "Multi_pred = clf.predict(X_test)"
   ]
  },
  {
   "cell_type": "code",
   "execution_count": 23,
   "metadata": {},
   "outputs": [
    {
     "name": "stdout",
     "output_type": "stream",
     "text": [
      "              precision    recall  f1-score   support\n",
      "\n",
      "       人口与城市       0.92      0.97      0.94       325\n",
      "   公民道德与伦理常识       0.84      0.98      0.91       375\n",
      "       分子与细胞       0.92      0.94      0.93       544\n",
      "     区域可持续发展       0.00      0.00      0.00        24\n",
      "         古代史       0.96      0.85      0.90       193\n",
      "       地球与地图       0.96      0.56      0.71        86\n",
      "      宇宙中的地球       0.96      0.99      0.98       730\n",
      "        时事政治       0.00      0.00      0.00        12\n",
      "         现代史       0.71      0.83      0.77       478\n",
      "    现代生物技术专题       0.38      0.42      0.40       178\n",
      "   生产活动与地域联系       0.85      0.93      0.89       279\n",
      "    生活中的法律常识       1.00      0.12      0.22        41\n",
      "      生物技术实践       0.66      0.69      0.67       360\n",
      "     生物科学与社会       0.80      0.89      0.84       812\n",
      "      科学思维常识       1.00      0.74      0.85        42\n",
      "    科学社会主义常识       0.96      0.96      0.96       114\n",
      "       稳态与环境       0.79      0.23      0.35       203\n",
      "       经济学常识       0.99      0.80      0.88       127\n",
      "         近代史       0.72      0.63      0.68       326\n",
      "\n",
      "    accuracy                           0.83      5249\n",
      "   macro avg       0.76      0.66      0.68      5249\n",
      "weighted avg       0.83      0.83      0.81      5249\n",
      "\n"
     ]
    },
    {
     "name": "stderr",
     "output_type": "stream",
     "text": [
      "/home/abner/anaconda3/envs/nlp02/lib/python3.6/site-packages/sklearn/metrics/_classification.py:1272: UndefinedMetricWarning: Precision and F-score are ill-defined and being set to 0.0 in labels with no predicted samples. Use `zero_division` parameter to control this behavior.\n",
      "  _warn_prf(average, modifier, msg_start, len(result))\n"
     ]
    }
   ],
   "source": [
    "print(classification_report(y_test, Multi_pred))"
   ]
  },
  {
   "cell_type": "code",
   "execution_count": null,
   "metadata": {},
   "outputs": [],
   "source": []
  }
 ],
 "metadata": {
  "kernelspec": {
   "display_name": "nlp02",
   "language": "python",
   "name": "nlp02"
  },
  "language_info": {
   "codemirror_mode": {
    "name": "ipython",
    "version": 3
   },
   "file_extension": ".py",
   "mimetype": "text/x-python",
   "name": "python",
   "nbconvert_exporter": "python",
   "pygments_lexer": "ipython3",
   "version": "3.6.2"
  },
  "pycharm": {
   "stem_cell": {
    "cell_type": "raw",
    "metadata": {
     "collapsed": false
    },
    "source": []
   }
  }
 },
 "nbformat": 4,
 "nbformat_minor": 4
}
