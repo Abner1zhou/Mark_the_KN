{
 "cells": [
  {
   "cell_type": "code",
   "execution_count": 1,
   "metadata": {
    "collapsed": true,
    "pycharm": {
     "is_executing": false
    }
   },
   "outputs": [],
   "source": [
    "import sys\n",
    "# 移动默认路径\n",
    "sys.path.append(\"../\")"
   ]
  },
  {
   "cell_type": "code",
   "execution_count": 2,
   "metadata": {
    "collapsed": true,
    "pycharm": {
     "is_executing": false
    }
   },
   "outputs": [],
   "source": [
    "import os\n",
    "import re\n",
    "import jieba\n",
    "import pandas as pd"
   ]
  },
  {
   "cell_type": "code",
   "execution_count": 3,
   "metadata": {
    "collapsed": true,
    "pycharm": {
     "is_executing": false
    }
   },
   "outputs": [],
   "source": [
    "from utils.path_config import *"
   ]
  },
  {
   "cell_type": "markdown",
   "metadata": {},
   "source": [
    "### 导入csv文件"
   ]
  },
  {
   "cell_type": "code",
   "execution_count": 4,
   "metadata": {
    "collapsed": true,
    "pycharm": {
     "is_executing": false
    }
   },
   "outputs": [],
   "source": [
    "# 通过正则表达式去除停用词\n",
    "def segment_line(line):\n",
    "    line = re.sub(\n",
    "            \"[a-zA-Z0-9]|[\\s+\\-\\|\\!\\/\\[\\]\\{\\}_,.$%^*(+\\\"\\')]+|[:：+——()?【】《》“”！，。？、~@#￥%……&*（）]+|题目\", '',line)\n",
    "    tokens = jieba.cut(line, cut_all=False)\n",
    "    return \" \".join(tokens)"
   ]
  },
  {
   "cell_type": "code",
   "execution_count": 5,
   "metadata": {
    "collapsed": true,
    "pycharm": {
     "is_executing": false
    }
   },
   "outputs": [],
   "source": [
    "def get_segment(subject_section, subject_path):\n",
    "    iter_ = 0\n",
    "    for label, path in zip(subject_section, subject_path):\n",
    "        df = pd.read_csv(path)\n",
    "        df['item'] = df['item'].apply(lambda x:segment_line(x))\n",
    "        df['label'] = label\n",
    "        # 第一次循环初始化dataset_df\n",
    "        if iter_ == 0:\n",
    "            dataset_df = df\n",
    "            iter_ += 1\n",
    "        else:\n",
    "            dataset_df=pd.concat([dataset_df,df])\n",
    "    return dataset_df"
   ]
  },
  {
   "cell_type": "code",
   "execution_count": 6,
   "metadata": {
    "pycharm": {
     "is_executing": false
    }
   },
   "outputs": [
    {
     "name": "stderr",
     "output_type": "stream",
     "text": [
      "Building prefix dict from the default dictionary ...\n",
      "Dumping model to file cache /tmp/jieba.cache\n",
      "Loading model cost 0.917 seconds.\n",
      "Prefix dict has been built successfully.\n"
     ]
    },
    {
     "name": "stdout",
     "output_type": "stream",
     "text": [
      "CPU times: user 35.8 s, sys: 46.6 ms, total: 35.8 s\n",
      "Wall time: 36.1 s\n"
     ]
    }
   ],
   "source": [
    "%%time\n",
    "history_df = get_segment(history_section, history_path_all)\n",
    "politics_df = get_segment(politics_section, politics_path_all)\n",
    "geography_df = get_segment(geography_section, geography_path_all)\n",
    "biological_df = get_segment(biological_section, biological_path_all)"
   ]
  },
  {
   "cell_type": "code",
   "execution_count": 7,
   "metadata": {
    "collapsed": true,
    "pycharm": {
     "is_executing": false
    }
   },
   "outputs": [],
   "source": [
    "dataset_df = pd.concat([history_df, politics_df, geography_df, biological_df])"
   ]
  },
  {
   "cell_type": "code",
   "execution_count": 8,
   "metadata": {
    "pycharm": {
     "is_executing": false
    }
   },
   "outputs": [
    {
     "data": {
      "text/html": [
       "<div>\n",
       "<style scoped>\n",
       "    .dataframe tbody tr th:only-of-type {\n",
       "        vertical-align: middle;\n",
       "    }\n",
       "\n",
       "    .dataframe tbody tr th {\n",
       "        vertical-align: top;\n",
       "    }\n",
       "\n",
       "    .dataframe thead th {\n",
       "        text-align: right;\n",
       "    }\n",
       "</style>\n",
       "<table border=\"1\" class=\"dataframe\">\n",
       "  <thead>\n",
       "    <tr style=\"text-align: right;\">\n",
       "      <th></th>\n",
       "      <th>web-scraper-order</th>\n",
       "      <th>web-scraper-start-url</th>\n",
       "      <th>item</th>\n",
       "      <th>label</th>\n",
       "    </tr>\n",
       "  </thead>\n",
       "  <tbody>\n",
       "    <tr>\n",
       "      <th>0</th>\n",
       "      <td>1566523436-2497</td>\n",
       "      <td>https://study.baidu.com/tiku</td>\n",
       "      <td>据 左传 记载 春秋 后期 鲁国 大夫 季孙氏 的 家臣 阳虎 独掌 权柄 后 标榜 要 替...</td>\n",
       "      <td>古代史</td>\n",
       "    </tr>\n",
       "    <tr>\n",
       "      <th>1</th>\n",
       "      <td>1566523436-2506</td>\n",
       "      <td>https://study.baidu.com/tiku</td>\n",
       "      <td>秦始皇 统一 六国后 创制 了 一套 御玺 如 任命 国家 官员 则 封印 皇帝 之玺 ； ...</td>\n",
       "      <td>古代史</td>\n",
       "    </tr>\n",
       "    <tr>\n",
       "      <th>2</th>\n",
       "      <td>1566523436-2153</td>\n",
       "      <td>https://study.baidu.com/tiku</td>\n",
       "      <td>北宋 加强 中央集权 的 主要 措施 有 ① 把 主要 将领 的 兵权 收归 中央 ② 派 ...</td>\n",
       "      <td>古代史</td>\n",
       "    </tr>\n",
       "    <tr>\n",
       "      <th>3</th>\n",
       "      <td>1566523436-2328</td>\n",
       "      <td>https://study.baidu.com/tiku</td>\n",
       "      <td>商朝人 崇信 各种 鬼神 把 占卜 祭祀 作为 与 神灵 沟通 的 手段 负责 通神 事务 ...</td>\n",
       "      <td>古代史</td>\n",
       "    </tr>\n",
       "    <tr>\n",
       "      <th>4</th>\n",
       "      <td>1566523436-1914</td>\n",
       "      <td>https://study.baidu.com/tiku</td>\n",
       "      <td>公元 年 北宋 政府 在 江淮地区 设置 了 包括 盐业 管理 以及 控制 对 茶叶 销售 ...</td>\n",
       "      <td>古代史</td>\n",
       "    </tr>\n",
       "  </tbody>\n",
       "</table>\n",
       "</div>"
      ],
      "text/plain": [
       "  web-scraper-order         web-scraper-start-url  \\\n",
       "0   1566523436-2497  https://study.baidu.com/tiku   \n",
       "1   1566523436-2506  https://study.baidu.com/tiku   \n",
       "2   1566523436-2153  https://study.baidu.com/tiku   \n",
       "3   1566523436-2328  https://study.baidu.com/tiku   \n",
       "4   1566523436-1914  https://study.baidu.com/tiku   \n",
       "\n",
       "                                                item label  \n",
       "0  据 左传 记载 春秋 后期 鲁国 大夫 季孙氏 的 家臣 阳虎 独掌 权柄 后 标榜 要 替...   古代史  \n",
       "1  秦始皇 统一 六国后 创制 了 一套 御玺 如 任命 国家 官员 则 封印 皇帝 之玺 ； ...   古代史  \n",
       "2  北宋 加强 中央集权 的 主要 措施 有 ① 把 主要 将领 的 兵权 收归 中央 ② 派 ...   古代史  \n",
       "3  商朝人 崇信 各种 鬼神 把 占卜 祭祀 作为 与 神灵 沟通 的 手段 负责 通神 事务 ...   古代史  \n",
       "4  公元 年 北宋 政府 在 江淮地区 设置 了 包括 盐业 管理 以及 控制 对 茶叶 销售 ...   古代史  "
      ]
     },
     "execution_count": 8,
     "metadata": {},
     "output_type": "execute_result"
    }
   ],
   "source": [
    "dataset_df.head()"
   ]
  },
  {
   "cell_type": "code",
   "execution_count": 9,
   "metadata": {
    "pycharm": {
     "is_executing": false
    }
   },
   "outputs": [
    {
     "name": "stdout",
     "output_type": "stream",
     "text": [
      "<class 'pandas.core.frame.DataFrame'>\n",
      "Int64Index: 26243 entries, 0 to 1039\n",
      "Data columns (total 4 columns):\n",
      "web-scraper-order        26243 non-null object\n",
      "web-scraper-start-url    26243 non-null object\n",
      "item                     26243 non-null object\n",
      "label                    26243 non-null object\n",
      "dtypes: object(4)\n",
      "memory usage: 1.0+ MB\n"
     ]
    }
   ],
   "source": [
    "dataset_df.info()"
   ]
  },
  {
   "cell_type": "code",
   "execution_count": 10,
   "metadata": {
    "collapsed": true,
    "pycharm": {
     "is_executing": false
    }
   },
   "outputs": [],
   "source": [
    "corpus=dataset_df['item']"
   ]
  },
  {
   "cell_type": "code",
   "execution_count": 11,
   "metadata": {
    "collapsed": true,
    "pycharm": {
     "is_executing": false
    }
   },
   "outputs": [],
   "source": [
    "from sklearn.feature_extraction.text import TfidfVectorizer,CountVectorizer,TfidfTransformer"
   ]
  },
  {
   "cell_type": "markdown",
   "metadata": {},
   "source": [
    "### TDIDF"
   ]
  },
  {
   "cell_type": "code",
   "execution_count": 12,
   "metadata": {
    "pycharm": {
     "is_executing": false
    }
   },
   "outputs": [
    {
     "name": "stdout",
     "output_type": "stream",
     "text": [
      "CPU times: user 2.67 s, sys: 19.7 ms, total: 2.69 s\n",
      "Wall time: 2.74 s\n"
     ]
    }
   ],
   "source": [
    "%%time\n",
    "# 设置2500个特征值，忽略词频小于5的词。\n",
    "vectorizer = TfidfVectorizer(max_features=2500,min_df=5)\n",
    "X = vectorizer.fit_transform(corpus)"
   ]
  },
  {
   "cell_type": "code",
   "execution_count": 13,
   "metadata": {
    "collapsed": true,
    "pycharm": {
     "is_executing": false
    }
   },
   "outputs": [],
   "source": [
    "from sklearn.model_selection import train_test_split"
   ]
  },
  {
   "cell_type": "code",
   "execution_count": 14,
   "metadata": {
    "collapsed": true,
    "pycharm": {
     "is_executing": false
    }
   },
   "outputs": [],
   "source": [
    "X_train, X_test, y_train, y_test=train_test_split(X.toarray(),dataset_df['label'],test_size=0.2,random_state=42)"
   ]
  },
  {
   "cell_type": "markdown",
   "metadata": {},
   "source": [
    "## sklearn\n",
    "[naive bayes](https://scikit-learn.org/stable/modules/classes.html#module-sklearn.naive_bayes)"
   ]
  },
  {
   "cell_type": "code",
   "execution_count": 15,
   "metadata": {
    "collapsed": true,
    "pycharm": {
     "is_executing": false
    }
   },
   "outputs": [],
   "source": [
    "from sklearn.naive_bayes import GaussianNB,MultinomialNB,ComplementNB,BernoulliNB\n",
    "from sklearn.metrics import classification_report"
   ]
  },
  {
   "cell_type": "markdown",
   "metadata": {},
   "source": [
    "# Naive Bayes"
   ]
  },
  {
   "cell_type": "markdown",
   "metadata": {},
   "source": [
    "## 高斯朴素贝叶斯\n",
    "\n",
    "[`GaussianNB`](https://scikit-learn.org/stable/modules/generated/sklearn.naive_bayes.GaussianNB.html#sklearn.naive_bayes.GaussianNB \"sklearn.naive_bayes.GaussianNB\") 实现了运用于分类的高斯朴素贝叶斯算法。特征的可能性(即概率)假设为高斯分布:\n",
    "\n",
    "$$\n",
    "P(x_i \\mid y) = \\frac{1}{\\sqrt{2\\pi\\sigma^2_y}} \\exp\\left(-\\frac{(x_i - \\mu_y)^2}{2\\sigma^2_y}\\right)\n",
    "$$\n",
    "\n",
    "参数 $\\sigma_y$ 和 $\\mu_y$ 使用最大似然法估计。\n",
    "\n",
    "```py\n",
    ">>> from sklearn import datasets\n",
    ">>> iris = datasets.load_iris()\n",
    ">>> from sklearn.naive_bayes import GaussianNB\n",
    ">>> gnb = GaussianNB()\n",
    ">>> y_pred = gnb.fit(iris.data, iris.target).predict(iris.data)\n",
    ">>> print(\"Number of mislabeled points out of a total %d points : %d\"\n",
    "...       % (iris.data.shape[0],(iris.target != y_pred).sum()))\n",
    "Number of mislabeled points out of a total 150 points : 6\n",
    "\n",
    "```"
   ]
  },
  {
   "cell_type": "code",
   "execution_count": 24,
   "metadata": {
    "pycharm": {
     "is_executing": false
    }
   },
   "outputs": [
    {
     "name": "stdout",
     "output_type": "stream",
     "text": [
      "CPU times: user 1.24 s, sys: 461 ms, total: 1.71 s\n",
      "Wall time: 1.71 s\n"
     ]
    }
   ],
   "source": [
    "%%time\n",
    "# 高斯朴素贝叶斯\n",
    "clf = GaussianNB()\n",
    "clf.fit(X_train, y_train)\n",
    "Gauss_pred = clf.predict(X_test)"
   ]
  },
  {
   "cell_type": "markdown",
   "metadata": {},
   "source": [
    "## 多项分布朴素贝叶斯\n",
    "\n",
    "[`MultinomialNB`](https://scikit-learn.org/stable/modules/generated/sklearn.naive_bayes.MultinomialNB.html#sklearn.naive_bayes.MultinomialNB \"sklearn.naive_bayes.MultinomialNB\") 实现了服从多项分布数据的朴素贝叶斯算法，也是用于文本分类(这个领域中数据往往以词向量表示，尽管在实践中 tf-idf 向量在预测时表现良好)的两大经典朴素贝叶斯算法之一。 分布参数由每类 $y$ 的 $\\theta_y = (\\theta_{y1},\\ldots,\\theta_{yn})$ 向量决定， 式中 $n$ 是特征的数量(对于文本分类，是词汇量的大小) $\\theta_{yi}$ 是样本中属于类 $y$ 中特征 $i$ 概率 $P(x_i \\mid y)$。\n",
    "\n",
    "参数 $\\theta_y$ 使用平滑过的最大似然估计法来估计，即相对频率计数:\n",
    "\n",
    "$$\n",
    "\\hat{\\theta}_{yi} = \\frac{ N_{yi} + \\alpha}{N_y + \\alpha n}\n",
    "$$\n",
    "\n",
    "式中$N_{yi} = \\sum_{x \\in T} x_i$是 训练集T中特征i在类$y$中出现的次数，$N_{y} = \\sum_{i=1}^{|T|} N_{yi}$ 是类 $y$中出现所有特征的计数总和。\n",
    "\n",
    "先验平滑因子 $\\alpha \\ge 0$ 为在学习样本中没有出现的特征而设计，以防在将来的计算中出现0概率输出。 把 $\\alpha = 1$ 被称为拉普拉斯平滑(Lapalce smoothing)，而 $\\alpha \\lt\\ 1$被称为Lidstone平滑方法(Lidstone smoothing)。\n"
   ]
  },
  {
   "cell_type": "code",
   "execution_count": 25,
   "metadata": {
    "pycharm": {
     "is_executing": false
    }
   },
   "outputs": [
    {
     "name": "stdout",
     "output_type": "stream",
     "text": [
      "CPU times: user 330 ms, sys: 48.9 ms, total: 379 ms\n",
      "Wall time: 157 ms\n"
     ]
    }
   ],
   "source": [
    "%%time\n",
    "# 多项式朴素贝叶斯\n",
    "clf = MultinomialNB()\n",
    "clf.fit(X_train, y_train)\n",
    "Multi_pred = clf.predict(X_test)"
   ]
  },
  {
   "cell_type": "markdown",
   "metadata": {},
   "source": [
    "## 补充朴素贝叶斯\n",
    "\n",
    "[`ComplementNB`](https://scikit-learn.org/stable/modules/generated/sklearn.naive_bayes.ComplementNB.html#sklearn.naive_bayes.ComplementNB)实现了补充朴素贝叶斯(CNB)算法。CNB是标准多项式朴素贝叶斯(MNB)算法的一种改进，特别适用于不平衡数据集。具体来说，CNB使用来自每个类的补数的统计数据来计算模型的权重。CNB的发明者的研究表明，CNB的参数估计比MNB的参数估计更稳定。此外，CNB在文本分类任务上通常比MNB表现得更好(通常有相当大的优势)。计算权重的步骤如下:\n",
    "\n",
    "\n",
    "$$\n",
    "\\begin{align}\\begin{aligned}\\hat{\\theta}_{ci} = \\frac{\\alpha_i + \\sum_{j:y_j \\neq c} d_{ij}}{\\alpha + \\sum_{j:y_j \\neq c} \\sum_{k} d_{kj}}\\\\w_{ci} = \\log \\hat{\\theta}_{ci}\\\\w_{ci} = \\frac{w_{ci}}{\\sum_{j} |w_{cj}|}\\end{aligned}\\end{align}\n",
    "$$\n",
    "其中对不在类c中的所有记录j求和，d<sub>ij</sub>可以是文档ｊ中词语i的计数或tf-idf值，α<sub>i</sub>是就像MNB中一样的平滑超参数，同时$\\alpha = \\sum_{i} \\alpha_i$。第二个归一化解决了长记录主导MNB参数估计的问题。分类规则为:\n",
    "\n",
    "$\\hat{c} = \\arg\\min_c \\sum_{i} t_i w_{ci}$\n",
    "即将记录分配给补充匹配度最低的类。\n",
    "                 "
   ]
  },
  {
   "cell_type": "code",
   "execution_count": 26,
   "metadata": {
    "pycharm": {
     "is_executing": false
    }
   },
   "outputs": [
    {
     "name": "stdout",
     "output_type": "stream",
     "text": [
      "CPU times: user 367 ms, sys: 418 ms, total: 785 ms\n",
      "Wall time: 243 ms\n"
     ]
    }
   ],
   "source": [
    "%%time\n",
    "# 补充朴素贝叶斯\n",
    "clf = ComplementNB()\n",
    "clf.fit(X_train, y_train)\n",
    "Comp_pred = clf.predict(X_test)"
   ]
  },
  {
   "cell_type": "markdown",
   "metadata": {},
   "source": [
    "## 伯努利朴素贝叶斯\n",
    "\n",
    "[`BernoulliNB`](https://scikit-learn.org/stable/modules/generated/sklearn.naive_bayes.BernoulliNB.html#sklearn.naive_bayes.BernoulliNB \"sklearn.naive_bayes.BernoulliNB\") 实现了用于多重伯努利分布数据的朴素贝叶斯训练和分类算法，即有多个特征，但每个特征 都假设是一个二元 (Bernoulli, boolean) 变量。 因此，这类算法要求样本以二元值特征向量表示；如果样本含有其他类型的数据， 一个 `BernoulliNB` 实例会将其二值化(取决于 `binarize` 参数)。\n",
    "\n",
    "伯努利朴素贝叶斯的决策规则基于:\n",
    "\n",
    "$$\n",
    "P(x_i \\mid y) = P(i \\mid y) x_i + (1 - P(i \\mid y)) (1 - x_i)\n",
    "$$\n",
    "\n",
    "与多项分布朴素贝叶斯的规则不同 伯努利朴素贝叶斯明确地惩罚类 $y$ 中没有出现作为预测因子的特征 $i$ ，而多项分布分布朴素贝叶斯只是简单地忽略没出现的特征。\n",
    "\n",
    "在文本分类的例子中，统计词语是否出现的向量(word occurrence vectors)(而非统计词语出现次数的向量(word count vectors))可以用于训练和使用这个分类器。 `BernoulliNB` 可能在一些数据集上表现得更好，特别是那些更短的文档。 如果时间允许，建议对两个模型都进行评估。\n",
    "\n",
    "> **参考资料**:\n",
    ">*   C.D. Manning, P. Raghavan and H. Schütze (2008). Introduction to Information Retrieval. Cambridge University Press, pp. 234-265.\n",
    ">*   A. McCallum and K. Nigam (1998). [A comparison of event models for Naive Bayes text classification.](http://citeseerx.ist.psu.edu/viewdoc/summary?doi=10.1.1.46.1529) Proc. AAAI/ICML-98 Workshop on Learning for Text Categorization, pp. 41-48.\n",
    ">*   V. Metsis, I. Androutsopoulos and G. Paliouras (2006). [Spam filtering with Naive Bayes – Which Naive Bayes?](http://citeseerx.ist.psu.edu/viewdoc/summary?doi=10.1.1.61.5542) 3rd Conf. on Email and Anti-Spam (CEAS)."
   ]
  },
  {
   "cell_type": "code",
   "execution_count": 27,
   "metadata": {
    "pycharm": {
     "is_executing": false,
     "name": "#%%\n"
    }
   },
   "outputs": [
    {
     "name": "stdout",
     "output_type": "stream",
     "text": [
      "CPU times: user 681 ms, sys: 693 ms, total: 1.37 s\n",
      "Wall time: 566 ms\n"
     ]
    }
   ],
   "source": [
    "%%time\n",
    "# 伯努利朴素贝叶斯\n",
    "clf = BernoulliNB()\n",
    "clf.fit(X_train, y_train)\n",
    "Bern_pred = clf.predict(X_test)"
   ]
  },
  {
   "cell_type": "code",
   "execution_count": 28,
   "metadata": {
    "pycharm": {
     "is_executing": false,
     "name": "#%%\n"
    }
   },
   "outputs": [
    {
     "name": "stdout",
     "output_type": "stream",
     "text": [
      "高斯朴素贝叶斯结果：\n",
      "              precision    recall  f1-score   support\n",
      "\n",
      "       人口与城市       0.84      0.77      0.80       356\n",
      "   公民道德与伦理常识       0.82      0.83      0.82       370\n",
      "       分子与细胞       0.89      0.92      0.90       526\n",
      "     区域可持续发展       0.25      0.38      0.30        16\n",
      "         古代史       0.82      0.58      0.68       275\n",
      "       地球与地图       0.57      0.27      0.36       184\n",
      "      宇宙中的地球       0.83      0.98      0.90       621\n",
      "        时事政治       0.17      1.00      0.29         2\n",
      "         现代史       0.23      0.49      0.31       223\n",
      "    现代生物技术专题       0.69      0.33      0.44       376\n",
      "   生产活动与地域联系       0.72      0.77      0.74       261\n",
      "    生活中的法律常识       0.39      0.89      0.54        18\n",
      "      生物技术实践       0.33      0.55      0.41       215\n",
      "     生物科学与社会       0.10      0.67      0.18       125\n",
      "      科学思维常识       0.33      0.74      0.46        19\n",
      "    科学社会主义常识       0.75      0.71      0.73       120\n",
      "       稳态与环境       0.86      0.20      0.33       857\n",
      "       经济学常识       0.72      0.68      0.70       134\n",
      "         近代史       0.79      0.47      0.59       551\n",
      "\n",
      "    accuracy                           0.60      5249\n",
      "   macro avg       0.58      0.64      0.55      5249\n",
      "weighted avg       0.74      0.60      0.62      5249\n",
      "\n",
      "多项式朴素贝叶斯结果：\n",
      "              precision    recall  f1-score   support\n",
      "\n",
      "       人口与城市       0.97      0.92      0.94       343\n",
      "   公民道德与伦理常识       0.98      0.84      0.91       437\n",
      "       分子与细胞       0.94      0.92      0.93       559\n",
      "     区域可持续发展       0.00      0.00      0.00         0\n",
      "         古代史       0.85      0.96      0.90       171\n",
      "       地球与地图       0.56      0.96      0.71        50\n",
      "      宇宙中的地球       0.99      0.96      0.98       753\n",
      "        时事政治       0.00      0.00      0.00         0\n",
      "         现代史       0.83      0.71      0.77       556\n",
      "    现代生物技术专题       0.42      0.38      0.40       195\n",
      "   生产活动与地域联系       0.93      0.85      0.89       305\n",
      "    生活中的法律常识       0.12      1.00      0.22         5\n",
      "      生物技术实践       0.69      0.66      0.67       380\n",
      "     生物科学与社会       0.89      0.80      0.84       904\n",
      "      科学思维常识       0.74      1.00      0.85        31\n",
      "    科学社会主义常识       0.96      0.96      0.96       113\n",
      "       稳态与环境       0.23      0.79      0.35        58\n",
      "       经济学常识       0.80      0.99      0.88       102\n",
      "         近代史       0.63      0.72      0.68       287\n",
      "\n",
      "    accuracy                           0.83      5249\n",
      "   macro avg       0.66      0.76      0.68      5249\n",
      "weighted avg       0.86      0.83      0.84      5249\n",
      "\n",
      "补充朴素贝叶斯结果：\n",
      "              precision    recall  f1-score   support\n",
      "\n",
      "       人口与城市       0.95      0.93      0.94       332\n",
      "   公民道德与伦理常识       0.98      0.82      0.89       449\n",
      "       分子与细胞       0.94      0.87      0.90       590\n",
      "     区域可持续发展       0.21      0.83      0.33         6\n",
      "         古代史       0.86      0.92      0.89       181\n",
      "       地球与地图       0.55      0.98      0.70        48\n",
      "      宇宙中的地球       1.00      0.93      0.96       789\n",
      "        时事政治       0.00      0.00      0.00         0\n",
      "         现代史       0.82      0.72      0.77       546\n",
      "    现代生物技术专题       0.05      0.27      0.09        33\n",
      "   生产活动与地域联系       0.91      0.89      0.90       288\n",
      "    生活中的法律常识       0.17      1.00      0.29         7\n",
      "      生物技术实践       0.86      0.62      0.72       501\n",
      "     生物科学与社会       0.90      0.77      0.83       947\n",
      "      科学思维常识       0.81      1.00      0.89        34\n",
      "    科学社会主义常识       0.93      0.93      0.93       114\n",
      "       稳态与环境       0.10      0.80      0.18        25\n",
      "       经济学常识       0.74      0.99      0.85        95\n",
      "         近代史       0.61      0.75      0.67       264\n",
      "\n",
      "    accuracy                           0.82      5249\n",
      "   macro avg       0.65      0.79      0.67      5249\n",
      "weighted avg       0.89      0.82      0.84      5249\n",
      "\n",
      "伯努利朴素贝叶斯结果：\n",
      "              precision    recall  f1-score   support\n",
      "\n",
      "       人口与城市       0.94      0.85      0.90       361\n",
      "   公民道德与伦理常识       0.85      0.94      0.89       341\n",
      "       分子与细胞       0.95      0.93      0.94       554\n",
      "     区域可持续发展       0.71      0.94      0.81        18\n",
      "         古代史       0.85      0.96      0.91       171\n",
      "       地球与地图       0.88      0.80      0.84        95\n",
      "      宇宙中的地球       0.97      0.99      0.98       718\n",
      "        时事政治       0.00      0.00      0.00         0\n",
      "         现代史       0.76      0.76      0.76       480\n",
      "    现代生物技术专题       0.67      0.39      0.49       309\n",
      "   生产活动与地域联系       0.89      0.90      0.89       274\n",
      "    生活中的法律常识       0.76      0.79      0.77        39\n",
      "      生物技术实践       0.52      0.67      0.58       277\n",
      "     生物科学与社会       0.80      0.82      0.81       793\n",
      "      科学思维常识       0.93      0.52      0.67        75\n",
      "    科学社会主义常识       0.99      0.95      0.97       119\n",
      "       稳态与环境       0.36      0.45      0.40       164\n",
      "       经济学常识       0.88      0.98      0.93       114\n",
      "         近代史       0.71      0.67      0.69       347\n",
      "\n",
      "    accuracy                           0.82      5249\n",
      "   macro avg       0.76      0.75      0.75      5249\n",
      "weighted avg       0.82      0.82      0.81      5249\n",
      "\n"
     ]
    },
    {
     "name": "stderr",
     "output_type": "stream",
     "text": [
      "/home/abner/anaconda3/envs/nlp02/lib/python3.6/site-packages/sklearn/metrics/_classification.py:1272: UndefinedMetricWarning: Recall and F-score are ill-defined and being set to 0.0 in labels with no true samples. Use `zero_division` parameter to control this behavior.\n",
      "  _warn_prf(average, modifier, msg_start, len(result))\n"
     ]
    }
   ],
   "source": [
    "print(\"高斯朴素贝叶斯结果：\")\n",
    "print(classification_report(Gauss_pred, y_test))\n",
    "print(\"多项式朴素贝叶斯结果：\")\n",
    "print(classification_report(Multi_pred, y_test))\n",
    "print(\"补充朴素贝叶斯结果：\")\n",
    "print(classification_report(Comp_pred, y_test))\n",
    "print(\"伯努利朴素贝叶斯结果：\")\n",
    "print(classification_report(Bern_pred, y_test))\n",
    "\n"
   ]
  },
  {
   "cell_type": "code",
   "execution_count": null,
   "metadata": {
    "pycharm": {
     "name": "#%%\n"
    }
   },
   "outputs": [],
   "source": [
    "\n"
   ]
  }
 ],
 "metadata": {
  "kernelspec": {
   "display_name": "nlp02",
   "language": "python",
   "name": "nlp02"
  },
  "language_info": {
   "codemirror_mode": {
    "name": "ipython",
    "version": 3
   },
   "file_extension": ".py",
   "mimetype": "text/x-python",
   "name": "python",
   "nbconvert_exporter": "python",
   "pygments_lexer": "ipython3",
   "version": "3.6.2"
  },
  "pycharm": {
   "stem_cell": {
    "cell_type": "raw",
    "metadata": {
     "collapsed": false
    },
    "source": []
   }
  }
 },
 "nbformat": 4,
 "nbformat_minor": 4
}
